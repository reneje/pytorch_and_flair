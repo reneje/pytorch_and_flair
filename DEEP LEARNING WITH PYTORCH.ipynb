{
 "cells": [
  {
   "cell_type": "code",
   "execution_count": 1,
   "metadata": {},
   "outputs": [
    {
     "data": {
      "text/plain": [
       "<torch._C.Generator at 0x7f131eaf9130>"
      ]
     },
     "execution_count": 1,
     "metadata": {},
     "output_type": "execute_result"
    }
   ],
   "source": [
    "import torch\n",
    "import torch.nn as nn\n",
    "import torch.nn.functional as F\n",
    "import torch.optim as optim\n",
    "\n",
    "torch.manual_seed(1)"
   ]
  },
  {
   "cell_type": "code",
   "execution_count": 2,
   "metadata": {},
   "outputs": [
    {
     "name": "stdout",
     "output_type": "stream",
     "text": [
      "tensor([[ 0.1755, -0.3268, -0.5069],\n",
      "        [-0.6602,  0.2260,  0.1089]], grad_fn=<AddmmBackward>)\n"
     ]
    }
   ],
   "source": [
    "lin = nn.Linear(5, 3)  # maps from R^5 to R^3, parameters A, b\n",
    "# data is 2x5.  A maps from 5 to 3... can we map \"data\" under A?\n",
    "data = torch.randn(2, 5)\n",
    "print(lin(data))  # yes"
   ]
  },
  {
   "cell_type": "code",
   "execution_count": 3,
   "metadata": {},
   "outputs": [
    {
     "name": "stdout",
     "output_type": "stream",
     "text": [
      "tensor([[-0.5404, -2.2102],\n",
      "        [ 2.1130, -0.0040]])\n",
      "tensor([[0.0000, 0.0000],\n",
      "        [2.1130, 0.0000]])\n"
     ]
    }
   ],
   "source": [
    "# In pytorch, most non-linearities are in torch.functional (we have it imported as F)\n",
    "# Note that non-linearites typically don't have parameters like affine maps do.\n",
    "# That is, they don't have weights that are updated during training.\n",
    "data = torch.randn(2, 2)\n",
    "print(data)\n",
    "print(F.relu(data))"
   ]
  },
  {
   "cell_type": "code",
   "execution_count": 4,
   "metadata": {},
   "outputs": [
    {
     "name": "stdout",
     "output_type": "stream",
     "text": [
      "tensor([ 1.3800, -1.3505,  0.3455,  0.5046,  1.8213])\n",
      "tensor([0.2948, 0.0192, 0.1048, 0.1228, 0.4584])\n",
      "tensor(1.)\n",
      "tensor([-1.2214, -3.9519, -2.2560, -2.0969, -0.7801])\n"
     ]
    }
   ],
   "source": [
    "# Softmax is also in torch.nn.functional\n",
    "data = torch.randn(5)\n",
    "print(data)\n",
    "print(F.softmax(data, dim=0))\n",
    "print(F.softmax(data, dim=0).sum())  # Sums to 1 because it is a distribution!\n",
    "print(F.log_softmax(data, dim=0))  # theres also log_softmax"
   ]
  },
  {
   "cell_type": "code",
   "execution_count": 5,
   "metadata": {},
   "outputs": [
    {
     "name": "stdout",
     "output_type": "stream",
     "text": [
      "{'me': 0, 'gusta': 1, 'comer': 2, 'en': 3, 'la': 4, 'cafeteria': 5, 'Give': 6, 'it': 7, 'to': 8, 'No': 9, 'creo': 10, 'que': 11, 'sea': 12, 'una': 13, 'buena': 14, 'idea': 15, 'is': 16, 'not': 17, 'a': 18, 'good': 19, 'get': 20, 'lost': 21, 'at': 22, 'Yo': 23, 'si': 24, 'on': 25}\n"
     ]
    }
   ],
   "source": [
    "data = [(\"me gusta comer en la cafeteria\".split(), \"SPANISH\"),\n",
    "        (\"Give it to me\".split(), \"ENGLISH\"),\n",
    "        (\"No creo que sea una buena idea\".split(), \"SPANISH\"),\n",
    "        (\"No it is not a good idea to get lost at sea\".split(), \"ENGLISH\")]\n",
    "\n",
    "test_data = [(\"Yo creo que si\".split(), \"SPANISH\"),\n",
    "             (\"it is lost on me\".split(), \"ENGLISH\")]\n",
    "\n",
    "# word_to_ix maps each word in the vocab to a unique integer, which will be its\n",
    "# index into the Bag of words vector\n",
    "word_to_ix = {}\n",
    "for sent, _ in data + test_data:\n",
    "    for word in sent:\n",
    "        if word not in word_to_ix:\n",
    "            word_to_ix[word] = len(word_to_ix)\n",
    "print(word_to_ix)\n",
    "\n",
    "VOCAB_SIZE = len(word_to_ix)\n",
    "NUM_LABELS = 2"
   ]
  },
  {
   "cell_type": "code",
   "execution_count": 6,
   "metadata": {
    "collapsed": true
   },
   "outputs": [],
   "source": [
    "class BoWClassifier(nn.Module):  # inheriting from nn.Module!\n",
    "\n",
    "    def __init__(self, num_labels, vocab_size):\n",
    "        # calls the init function of nn.Module.  Dont get confused by syntax,\n",
    "        # just always do it in an nn.Module\n",
    "        super(BoWClassifier, self).__init__()\n",
    "\n",
    "        # Define the parameters that you will need.  In this case, we need A and b,\n",
    "        # the parameters of the affine mapping.\n",
    "        # Torch defines nn.Linear(), which provides the affine map.\n",
    "        # Make sure you understand why the input dimension is vocab_size\n",
    "        # and the output is num_labels!\n",
    "        self.linear = nn.Linear(vocab_size, num_labels)\n",
    "\n",
    "        # NOTE! The non-linearity log softmax does not have parameters! So we don't need\n",
    "        # to worry about that here\n",
    "\n",
    "    def forward(self, bow_vec):\n",
    "        # Pass the input through the linear layer,\n",
    "        # then pass that through log_softmax.\n",
    "        # Many non-linearities and other functions are in torch.nn.functional\n",
    "        return F.log_softmax(self.linear(bow_vec), dim=1)\n",
    "\n",
    "\n",
    "def make_bow_vector(sentence, word_to_ix):\n",
    "    vec = torch.zeros(len(word_to_ix))\n",
    "    for word in sentence:\n",
    "        vec[word_to_ix[word]] += 1\n",
    "    return vec.view(1, -1)\n",
    "\n",
    "\n",
    "def make_target(label, label_to_ix):\n",
    "    return torch.LongTensor([label_to_ix[label]])\n"
   ]
  },
  {
   "cell_type": "code",
   "execution_count": 7,
   "metadata": {},
   "outputs": [
    {
     "name": "stdout",
     "output_type": "stream",
     "text": [
      "Parameter containing:\n",
      "tensor([[ 0.1194,  0.0609, -0.1268,  0.1274,  0.1191,  0.1739, -0.1099, -0.0323,\n",
      "         -0.0038,  0.0286, -0.1488, -0.1392,  0.1067, -0.0460,  0.0958,  0.0112,\n",
      "          0.0644,  0.0431,  0.0713,  0.0972, -0.1816,  0.0987, -0.1379, -0.1480,\n",
      "          0.0119, -0.0334],\n",
      "        [ 0.1152, -0.1136, -0.1743,  0.1427, -0.0291,  0.1103,  0.0630, -0.1471,\n",
      "          0.0394,  0.0471, -0.1313, -0.0931,  0.0669,  0.0351, -0.0834, -0.0594,\n",
      "          0.1796, -0.0363,  0.1106,  0.0849, -0.1268, -0.1668,  0.1882,  0.0102,\n",
      "          0.1344,  0.0406]], requires_grad=True)\n",
      "Parameter containing:\n",
      "tensor([0.0631, 0.1465], requires_grad=True)\n",
      "tensor([[-0.5378, -0.8771]])\n"
     ]
    }
   ],
   "source": [
    "model = BoWClassifier(NUM_LABELS, VOCAB_SIZE)\n",
    "\n",
    "# the model knows its parameters.  The first output below is A, the second is b.\n",
    "# Whenever you assign a component to a class variable in the __init__ function\n",
    "# of a module, which was done with the line\n",
    "# self.linear = nn.Linear(...)\n",
    "# Then through some Python magic from the PyTorch devs, your module\n",
    "# (in this case, BoWClassifier) will store knowledge of the nn.Linear's parameters\n",
    "for param in model.parameters():\n",
    "    print(param)\n",
    "\n",
    "# To run the model, pass in a BoW vector\n",
    "# Here we don't need to train, so the code is wrapped in torch.no_grad()\n",
    "with torch.no_grad():\n",
    "    sample = data[0]\n",
    "    bow_vector = make_bow_vector(sample[0], word_to_ix)\n",
    "    log_probs = model(bow_vector)\n",
    "    print(log_probs)"
   ]
  },
  {
   "cell_type": "code",
   "execution_count": 8,
   "metadata": {
    "collapsed": true
   },
   "outputs": [],
   "source": [
    "label_to_ix = {\"SPANISH\": 0, \"ENGLISH\": 1}"
   ]
  },
  {
   "cell_type": "code",
   "execution_count": 14,
   "metadata": {},
   "outputs": [
    {
     "name": "stdout",
     "output_type": "stream",
     "text": [
      "tensor([[-0.1182, -2.1937]])\n",
      "tensor([[-3.3757, -0.0348]])\n",
      "tensor([ 0.4225, -0.7026], grad_fn=<SelectBackward>)\n",
      "epoch:  0  target:  tensor([1])  log:  tensor([[-7.0583e+00, -8.6069e-04]], grad_fn=<LogSoftmaxBackward>)  loss:  tensor(0.0009, grad_fn=<NllLossBackward>)\n",
      "epoch:  1  target:  tensor([1])  log:  tensor([[-7.0603e+00, -8.5878e-04]], grad_fn=<LogSoftmaxBackward>)  loss:  tensor(0.0009, grad_fn=<NllLossBackward>)\n",
      "epoch:  2  target:  tensor([1])  log:  tensor([[-7.0623e+00, -8.5711e-04]], grad_fn=<LogSoftmaxBackward>)  loss:  tensor(0.0009, grad_fn=<NllLossBackward>)\n",
      "epoch:  3  target:  tensor([1])  log:  tensor([[-7.0643e+00, -8.5545e-04]], grad_fn=<LogSoftmaxBackward>)  loss:  tensor(0.0009, grad_fn=<NllLossBackward>)\n",
      "epoch:  4  target:  tensor([1])  log:  tensor([[-7.0663e+00, -8.5378e-04]], grad_fn=<LogSoftmaxBackward>)  loss:  tensor(0.0009, grad_fn=<NllLossBackward>)\n",
      "epoch:  5  target:  tensor([1])  log:  tensor([[-7.0683e+00, -8.5211e-04]], grad_fn=<LogSoftmaxBackward>)  loss:  tensor(0.0009, grad_fn=<NllLossBackward>)\n",
      "epoch:  6  target:  tensor([1])  log:  tensor([[-7.0703e+00, -8.5020e-04]], grad_fn=<LogSoftmaxBackward>)  loss:  tensor(0.0009, grad_fn=<NllLossBackward>)\n",
      "epoch:  7  target:  tensor([1])  log:  tensor([[-7.0723e+00, -8.4853e-04]], grad_fn=<LogSoftmaxBackward>)  loss:  tensor(0.0008, grad_fn=<NllLossBackward>)\n",
      "epoch:  8  target:  tensor([1])  log:  tensor([[-7.0742e+00, -8.4686e-04]], grad_fn=<LogSoftmaxBackward>)  loss:  tensor(0.0008, grad_fn=<NllLossBackward>)\n",
      "epoch:  9  target:  tensor([1])  log:  tensor([[-7.0762e+00, -8.4543e-04]], grad_fn=<LogSoftmaxBackward>)  loss:  tensor(0.0008, grad_fn=<NllLossBackward>)\n",
      "epoch:  10  target:  tensor([1])  log:  tensor([[-7.0782e+00, -8.4376e-04]], grad_fn=<LogSoftmaxBackward>)  loss:  tensor(0.0008, grad_fn=<NllLossBackward>)\n",
      "epoch:  11  target:  tensor([1])  log:  tensor([[-7.0802e+00, -8.4209e-04]], grad_fn=<LogSoftmaxBackward>)  loss:  tensor(0.0008, grad_fn=<NllLossBackward>)\n",
      "epoch:  12  target:  tensor([1])  log:  tensor([[-7.0821e+00, -8.4043e-04]], grad_fn=<LogSoftmaxBackward>)  loss:  tensor(0.0008, grad_fn=<NllLossBackward>)\n",
      "epoch:  13  target:  tensor([1])  log:  tensor([[-7.0841e+00, -8.3876e-04]], grad_fn=<LogSoftmaxBackward>)  loss:  tensor(0.0008, grad_fn=<NllLossBackward>)\n",
      "epoch:  14  target:  tensor([1])  log:  tensor([[-7.0861e+00, -8.3709e-04]], grad_fn=<LogSoftmaxBackward>)  loss:  tensor(0.0008, grad_fn=<NllLossBackward>)\n",
      "epoch:  15  target:  tensor([1])  log:  tensor([[-7.0880e+00, -8.3542e-04]], grad_fn=<LogSoftmaxBackward>)  loss:  tensor(0.0008, grad_fn=<NllLossBackward>)\n",
      "epoch:  16  target:  tensor([1])  log:  tensor([[-7.0900e+00, -8.3375e-04]], grad_fn=<LogSoftmaxBackward>)  loss:  tensor(0.0008, grad_fn=<NllLossBackward>)\n",
      "epoch:  17  target:  tensor([1])  log:  tensor([[-7.0919e+00, -8.3232e-04]], grad_fn=<LogSoftmaxBackward>)  loss:  tensor(0.0008, grad_fn=<NllLossBackward>)\n",
      "epoch:  18  target:  tensor([1])  log:  tensor([[-7.0938e+00, -8.3065e-04]], grad_fn=<LogSoftmaxBackward>)  loss:  tensor(0.0008, grad_fn=<NllLossBackward>)\n",
      "epoch:  19  target:  tensor([1])  log:  tensor([[-7.0958e+00, -8.2898e-04]], grad_fn=<LogSoftmaxBackward>)  loss:  tensor(0.0008, grad_fn=<NllLossBackward>)\n",
      "epoch:  20  target:  tensor([1])  log:  tensor([[-7.0977e+00, -8.2731e-04]], grad_fn=<LogSoftmaxBackward>)  loss:  tensor(0.0008, grad_fn=<NllLossBackward>)\n",
      "epoch:  21  target:  tensor([1])  log:  tensor([[-7.0997e+00, -8.2588e-04]], grad_fn=<LogSoftmaxBackward>)  loss:  tensor(0.0008, grad_fn=<NllLossBackward>)\n",
      "epoch:  22  target:  tensor([1])  log:  tensor([[-7.1016e+00, -8.2421e-04]], grad_fn=<LogSoftmaxBackward>)  loss:  tensor(0.0008, grad_fn=<NllLossBackward>)\n",
      "epoch:  23  target:  tensor([1])  log:  tensor([[-7.1035e+00, -8.2254e-04]], grad_fn=<LogSoftmaxBackward>)  loss:  tensor(0.0008, grad_fn=<NllLossBackward>)\n",
      "epoch:  24  target:  tensor([1])  log:  tensor([[-7.1054e+00, -8.2111e-04]], grad_fn=<LogSoftmaxBackward>)  loss:  tensor(0.0008, grad_fn=<NllLossBackward>)\n",
      "epoch:  25  target:  tensor([1])  log:  tensor([[-7.1073e+00, -8.1944e-04]], grad_fn=<LogSoftmaxBackward>)  loss:  tensor(0.0008, grad_fn=<NllLossBackward>)\n",
      "epoch:  26  target:  tensor([1])  log:  tensor([[-7.1093e+00, -8.1778e-04]], grad_fn=<LogSoftmaxBackward>)  loss:  tensor(0.0008, grad_fn=<NllLossBackward>)\n",
      "epoch:  27  target:  tensor([1])  log:  tensor([[-7.1112e+00, -8.1635e-04]], grad_fn=<LogSoftmaxBackward>)  loss:  tensor(0.0008, grad_fn=<NllLossBackward>)\n",
      "epoch:  28  target:  tensor([1])  log:  tensor([[-7.1131e+00, -8.1468e-04]], grad_fn=<LogSoftmaxBackward>)  loss:  tensor(0.0008, grad_fn=<NllLossBackward>)\n",
      "epoch:  29  target:  tensor([1])  log:  tensor([[-7.1150e+00, -8.1325e-04]], grad_fn=<LogSoftmaxBackward>)  loss:  tensor(0.0008, grad_fn=<NllLossBackward>)\n",
      "epoch:  30  target:  tensor([1])  log:  tensor([[-7.1169e+00, -8.1158e-04]], grad_fn=<LogSoftmaxBackward>)  loss:  tensor(0.0008, grad_fn=<NllLossBackward>)\n",
      "epoch:  31  target:  tensor([1])  log:  tensor([[-7.1188e+00, -8.1015e-04]], grad_fn=<LogSoftmaxBackward>)  loss:  tensor(0.0008, grad_fn=<NllLossBackward>)\n",
      "epoch:  32  target:  tensor([1])  log:  tensor([[-7.1207e+00, -8.0848e-04]], grad_fn=<LogSoftmaxBackward>)  loss:  tensor(0.0008, grad_fn=<NllLossBackward>)\n",
      "epoch:  33  target:  tensor([1])  log:  tensor([[-7.1226e+00, -8.0705e-04]], grad_fn=<LogSoftmaxBackward>)  loss:  tensor(0.0008, grad_fn=<NllLossBackward>)\n",
      "epoch:  34  target:  tensor([1])  log:  tensor([[-7.1244e+00, -8.0562e-04]], grad_fn=<LogSoftmaxBackward>)  loss:  tensor(0.0008, grad_fn=<NllLossBackward>)\n",
      "epoch:  35  target:  tensor([1])  log:  tensor([[-7.1263e+00, -8.0395e-04]], grad_fn=<LogSoftmaxBackward>)  loss:  tensor(0.0008, grad_fn=<NllLossBackward>)\n",
      "epoch:  36  target:  tensor([1])  log:  tensor([[-7.1282e+00, -8.0252e-04]], grad_fn=<LogSoftmaxBackward>)  loss:  tensor(0.0008, grad_fn=<NllLossBackward>)\n",
      "epoch:  37  target:  tensor([1])  log:  tensor([[-7.1301e+00, -8.0109e-04]], grad_fn=<LogSoftmaxBackward>)  loss:  tensor(0.0008, grad_fn=<NllLossBackward>)\n",
      "epoch:  38  target:  tensor([1])  log:  tensor([[-7.1319e+00, -7.9942e-04]], grad_fn=<LogSoftmaxBackward>)  loss:  tensor(0.0008, grad_fn=<NllLossBackward>)\n",
      "epoch:  39  target:  tensor([1])  log:  tensor([[-7.1338e+00, -7.9799e-04]], grad_fn=<LogSoftmaxBackward>)  loss:  tensor(0.0008, grad_fn=<NllLossBackward>)\n",
      "epoch:  40  target:  tensor([1])  log:  tensor([[-7.1357e+00, -7.9656e-04]], grad_fn=<LogSoftmaxBackward>)  loss:  tensor(0.0008, grad_fn=<NllLossBackward>)\n",
      "epoch:  41  target:  tensor([1])  log:  tensor([[-7.1375e+00, -7.9513e-04]], grad_fn=<LogSoftmaxBackward>)  loss:  tensor(0.0008, grad_fn=<NllLossBackward>)\n",
      "epoch:  42  target:  tensor([1])  log:  tensor([[-7.1394e+00, -7.9346e-04]], grad_fn=<LogSoftmaxBackward>)  loss:  tensor(0.0008, grad_fn=<NllLossBackward>)\n",
      "epoch:  43  target:  tensor([1])  log:  tensor([[-7.1412e+00, -7.9203e-04]], grad_fn=<LogSoftmaxBackward>)  loss:  tensor(0.0008, grad_fn=<NllLossBackward>)\n",
      "epoch:  44  target:  tensor([1])  log:  tensor([[-7.1431e+00, -7.9060e-04]], grad_fn=<LogSoftmaxBackward>)  loss:  tensor(0.0008, grad_fn=<NllLossBackward>)\n",
      "epoch:  45  target:  tensor([1])  log:  tensor([[-7.1449e+00, -7.8917e-04]], grad_fn=<LogSoftmaxBackward>)  loss:  tensor(0.0008, grad_fn=<NllLossBackward>)\n",
      "epoch:  46  target:  tensor([1])  log:  tensor([[-7.1468e+00, -7.8773e-04]], grad_fn=<LogSoftmaxBackward>)  loss:  tensor(0.0008, grad_fn=<NllLossBackward>)\n",
      "epoch:  47  target:  tensor([1])  log:  tensor([[-7.1486e+00, -7.8630e-04]], grad_fn=<LogSoftmaxBackward>)  loss:  tensor(0.0008, grad_fn=<NllLossBackward>)\n",
      "epoch:  48  target:  tensor([1])  log:  tensor([[-7.1505e+00, -7.8487e-04]], grad_fn=<LogSoftmaxBackward>)  loss:  tensor(0.0008, grad_fn=<NllLossBackward>)\n",
      "epoch:  49  target:  tensor([1])  log:  tensor([[-7.1523e+00, -7.8344e-04]], grad_fn=<LogSoftmaxBackward>)  loss:  tensor(0.0008, grad_fn=<NllLossBackward>)\n",
      "epoch:  50  target:  tensor([1])  log:  tensor([[-7.1541e+00, -7.8201e-04]], grad_fn=<LogSoftmaxBackward>)  loss:  tensor(0.0008, grad_fn=<NllLossBackward>)\n",
      "epoch:  51  target:  tensor([1])  log:  tensor([[-7.1559e+00, -7.8058e-04]], grad_fn=<LogSoftmaxBackward>)  loss:  tensor(0.0008, grad_fn=<NllLossBackward>)\n"
     ]
    },
    {
     "name": "stdout",
     "output_type": "stream",
     "text": [
      "epoch:  52  target:  tensor([1])  log:  tensor([[-7.1578e+00, -7.7915e-04]], grad_fn=<LogSoftmaxBackward>)  loss:  tensor(0.0008, grad_fn=<NllLossBackward>)\n",
      "epoch:  53  target:  tensor([1])  log:  tensor([[-7.1596e+00, -7.7772e-04]], grad_fn=<LogSoftmaxBackward>)  loss:  tensor(0.0008, grad_fn=<NllLossBackward>)\n",
      "epoch:  54  target:  tensor([1])  log:  tensor([[-7.1614e+00, -7.7629e-04]], grad_fn=<LogSoftmaxBackward>)  loss:  tensor(0.0008, grad_fn=<NllLossBackward>)\n",
      "epoch:  55  target:  tensor([1])  log:  tensor([[-7.1632e+00, -7.7486e-04]], grad_fn=<LogSoftmaxBackward>)  loss:  tensor(0.0008, grad_fn=<NllLossBackward>)\n",
      "epoch:  56  target:  tensor([1])  log:  tensor([[-7.1650e+00, -7.7343e-04]], grad_fn=<LogSoftmaxBackward>)  loss:  tensor(0.0008, grad_fn=<NllLossBackward>)\n",
      "epoch:  57  target:  tensor([1])  log:  tensor([[-7.1668e+00, -7.7200e-04]], grad_fn=<LogSoftmaxBackward>)  loss:  tensor(0.0008, grad_fn=<NllLossBackward>)\n",
      "epoch:  58  target:  tensor([1])  log:  tensor([[-7.1686e+00, -7.7057e-04]], grad_fn=<LogSoftmaxBackward>)  loss:  tensor(0.0008, grad_fn=<NllLossBackward>)\n",
      "epoch:  59  target:  tensor([1])  log:  tensor([[-7.1704e+00, -7.6938e-04]], grad_fn=<LogSoftmaxBackward>)  loss:  tensor(0.0008, grad_fn=<NllLossBackward>)\n",
      "epoch:  60  target:  tensor([1])  log:  tensor([[-7.1722e+00, -7.6795e-04]], grad_fn=<LogSoftmaxBackward>)  loss:  tensor(0.0008, grad_fn=<NllLossBackward>)\n",
      "epoch:  61  target:  tensor([1])  log:  tensor([[-7.1740e+00, -7.6652e-04]], grad_fn=<LogSoftmaxBackward>)  loss:  tensor(0.0008, grad_fn=<NllLossBackward>)\n",
      "epoch:  62  target:  tensor([1])  log:  tensor([[-7.1758e+00, -7.6509e-04]], grad_fn=<LogSoftmaxBackward>)  loss:  tensor(0.0008, grad_fn=<NllLossBackward>)\n",
      "epoch:  63  target:  tensor([1])  log:  tensor([[-7.1776e+00, -7.6389e-04]], grad_fn=<LogSoftmaxBackward>)  loss:  tensor(0.0008, grad_fn=<NllLossBackward>)\n",
      "epoch:  64  target:  tensor([1])  log:  tensor([[-7.1794e+00, -7.6246e-04]], grad_fn=<LogSoftmaxBackward>)  loss:  tensor(0.0008, grad_fn=<NllLossBackward>)\n",
      "epoch:  65  target:  tensor([1])  log:  tensor([[-7.1812e+00, -7.6103e-04]], grad_fn=<LogSoftmaxBackward>)  loss:  tensor(0.0008, grad_fn=<NllLossBackward>)\n",
      "epoch:  66  target:  tensor([1])  log:  tensor([[-7.1830e+00, -7.5960e-04]], grad_fn=<LogSoftmaxBackward>)  loss:  tensor(0.0008, grad_fn=<NllLossBackward>)\n",
      "epoch:  67  target:  tensor([1])  log:  tensor([[-7.1847e+00, -7.5841e-04]], grad_fn=<LogSoftmaxBackward>)  loss:  tensor(0.0008, grad_fn=<NllLossBackward>)\n",
      "epoch:  68  target:  tensor([1])  log:  tensor([[-7.1865e+00, -7.5698e-04]], grad_fn=<LogSoftmaxBackward>)  loss:  tensor(0.0008, grad_fn=<NllLossBackward>)\n",
      "epoch:  69  target:  tensor([1])  log:  tensor([[-7.1883e+00, -7.5579e-04]], grad_fn=<LogSoftmaxBackward>)  loss:  tensor(0.0008, grad_fn=<NllLossBackward>)\n",
      "epoch:  70  target:  tensor([1])  log:  tensor([[-7.1900e+00, -7.5436e-04]], grad_fn=<LogSoftmaxBackward>)  loss:  tensor(0.0008, grad_fn=<NllLossBackward>)\n",
      "epoch:  71  target:  tensor([1])  log:  tensor([[-7.1918e+00, -7.5293e-04]], grad_fn=<LogSoftmaxBackward>)  loss:  tensor(0.0008, grad_fn=<NllLossBackward>)\n",
      "epoch:  72  target:  tensor([1])  log:  tensor([[-7.1936e+00, -7.5173e-04]], grad_fn=<LogSoftmaxBackward>)  loss:  tensor(0.0008, grad_fn=<NllLossBackward>)\n",
      "epoch:  73  target:  tensor([1])  log:  tensor([[-7.1953e+00, -7.5030e-04]], grad_fn=<LogSoftmaxBackward>)  loss:  tensor(0.0008, grad_fn=<NllLossBackward>)\n",
      "epoch:  74  target:  tensor([1])  log:  tensor([[-7.1971e+00, -7.4911e-04]], grad_fn=<LogSoftmaxBackward>)  loss:  tensor(0.0007, grad_fn=<NllLossBackward>)\n",
      "epoch:  75  target:  tensor([1])  log:  tensor([[-7.1988e+00, -7.4768e-04]], grad_fn=<LogSoftmaxBackward>)  loss:  tensor(0.0007, grad_fn=<NllLossBackward>)\n",
      "epoch:  76  target:  tensor([1])  log:  tensor([[-7.2006e+00, -7.4649e-04]], grad_fn=<LogSoftmaxBackward>)  loss:  tensor(0.0007, grad_fn=<NllLossBackward>)\n",
      "epoch:  77  target:  tensor([1])  log:  tensor([[-7.2023e+00, -7.4506e-04]], grad_fn=<LogSoftmaxBackward>)  loss:  tensor(0.0007, grad_fn=<NllLossBackward>)\n",
      "epoch:  78  target:  tensor([1])  log:  tensor([[-7.2040e+00, -7.4387e-04]], grad_fn=<LogSoftmaxBackward>)  loss:  tensor(0.0007, grad_fn=<NllLossBackward>)\n",
      "epoch:  79  target:  tensor([1])  log:  tensor([[-7.2058e+00, -7.4244e-04]], grad_fn=<LogSoftmaxBackward>)  loss:  tensor(0.0007, grad_fn=<NllLossBackward>)\n",
      "epoch:  80  target:  tensor([1])  log:  tensor([[-7.2075e+00, -7.4124e-04]], grad_fn=<LogSoftmaxBackward>)  loss:  tensor(0.0007, grad_fn=<NllLossBackward>)\n",
      "epoch:  81  target:  tensor([1])  log:  tensor([[-7.2092e+00, -7.4005e-04]], grad_fn=<LogSoftmaxBackward>)  loss:  tensor(0.0007, grad_fn=<NllLossBackward>)\n",
      "epoch:  82  target:  tensor([1])  log:  tensor([[-7.2110e+00, -7.3862e-04]], grad_fn=<LogSoftmaxBackward>)  loss:  tensor(0.0007, grad_fn=<NllLossBackward>)\n",
      "epoch:  83  target:  tensor([1])  log:  tensor([[-7.2127e+00, -7.3743e-04]], grad_fn=<LogSoftmaxBackward>)  loss:  tensor(0.0007, grad_fn=<NllLossBackward>)\n",
      "epoch:  84  target:  tensor([1])  log:  tensor([[-7.2144e+00, -7.3624e-04]], grad_fn=<LogSoftmaxBackward>)  loss:  tensor(0.0007, grad_fn=<NllLossBackward>)\n",
      "epoch:  85  target:  tensor([1])  log:  tensor([[-7.2161e+00, -7.3481e-04]], grad_fn=<LogSoftmaxBackward>)  loss:  tensor(0.0007, grad_fn=<NllLossBackward>)\n",
      "epoch:  86  target:  tensor([1])  log:  tensor([[-7.2179e+00, -7.3361e-04]], grad_fn=<LogSoftmaxBackward>)  loss:  tensor(0.0007, grad_fn=<NllLossBackward>)\n",
      "epoch:  87  target:  tensor([1])  log:  tensor([[-7.2196e+00, -7.3242e-04]], grad_fn=<LogSoftmaxBackward>)  loss:  tensor(0.0007, grad_fn=<NllLossBackward>)\n",
      "epoch:  88  target:  tensor([1])  log:  tensor([[-7.2213e+00, -7.3099e-04]], grad_fn=<LogSoftmaxBackward>)  loss:  tensor(0.0007, grad_fn=<NllLossBackward>)\n",
      "epoch:  89  target:  tensor([1])  log:  tensor([[-7.2230e+00, -7.2980e-04]], grad_fn=<LogSoftmaxBackward>)  loss:  tensor(0.0007, grad_fn=<NllLossBackward>)\n",
      "epoch:  90  target:  tensor([1])  log:  tensor([[-7.2247e+00, -7.2861e-04]], grad_fn=<LogSoftmaxBackward>)  loss:  tensor(0.0007, grad_fn=<NllLossBackward>)\n",
      "epoch:  91  target:  tensor([1])  log:  tensor([[-7.2264e+00, -7.2742e-04]], grad_fn=<LogSoftmaxBackward>)  loss:  tensor(0.0007, grad_fn=<NllLossBackward>)\n",
      "epoch:  92  target:  tensor([1])  log:  tensor([[-7.2281e+00, -7.2622e-04]], grad_fn=<LogSoftmaxBackward>)  loss:  tensor(0.0007, grad_fn=<NllLossBackward>)\n",
      "epoch:  93  target:  tensor([1])  log:  tensor([[-7.2298e+00, -7.2479e-04]], grad_fn=<LogSoftmaxBackward>)  loss:  tensor(0.0007, grad_fn=<NllLossBackward>)\n",
      "epoch:  94  target:  tensor([1])  log:  tensor([[-7.2315e+00, -7.2360e-04]], grad_fn=<LogSoftmaxBackward>)  loss:  tensor(0.0007, grad_fn=<NllLossBackward>)\n",
      "epoch:  95  target:  tensor([1])  log:  tensor([[-7.2332e+00, -7.2241e-04]], grad_fn=<LogSoftmaxBackward>)  loss:  tensor(0.0007, grad_fn=<NllLossBackward>)\n",
      "epoch:  96  target:  tensor([1])  log:  tensor([[-7.2349e+00, -7.2122e-04]], grad_fn=<LogSoftmaxBackward>)  loss:  tensor(0.0007, grad_fn=<NllLossBackward>)\n",
      "epoch:  97  target:  tensor([1])  log:  tensor([[-7.2366e+00, -7.2002e-04]], grad_fn=<LogSoftmaxBackward>)  loss:  tensor(0.0007, grad_fn=<NllLossBackward>)\n",
      "epoch:  98  target:  tensor([1])  log:  tensor([[-7.2382e+00, -7.1883e-04]], grad_fn=<LogSoftmaxBackward>)  loss:  tensor(0.0007, grad_fn=<NllLossBackward>)\n",
      "epoch:  99  target:  tensor([1])  log:  tensor([[-7.2399e+00, -7.1764e-04]], grad_fn=<LogSoftmaxBackward>)  loss:  tensor(0.0007, grad_fn=<NllLossBackward>)\n",
      "tensor([[-0.1107, -2.2558]])\n",
      "tensor([[-3.4733, -0.0315]])\n",
      "\n",
      " tensor([ 0.4385, -0.7186], grad_fn=<SelectBackward>)\n"
     ]
    }
   ],
   "source": [
    "# Run on test data before we train, just to see a before-and-after\n",
    "with torch.no_grad():\n",
    "    for instance, label in test_data:\n",
    "        bow_vec = make_bow_vector(instance, word_to_ix)\n",
    "        log_probs = model(bow_vec)\n",
    "        print(log_probs)\n",
    "\n",
    "# Print the matrix column corresponding to \"creo\"\n",
    "print(next(model.parameters())[:, word_to_ix[\"creo\"]])\n",
    "\n",
    "loss_function = nn.NLLLoss()\n",
    "optimizer = optim.SGD(model.parameters(), lr=0.1)\n",
    "\n",
    "# Usually you want to pass over the training data several times.\n",
    "# 100 is much bigger than on a real data set, but real datasets have more than\n",
    "# two instances.  Usually, somewhere between 5 and 30 epochs is reasonable.\n",
    "for epoch in range(100):\n",
    "    for instance, label in data:\n",
    "        # Step 1. Remember that PyTorch accumulates gradients.\n",
    "        # We need to clear them out before each instance\n",
    "        model.zero_grad()\n",
    "\n",
    "        # Step 2. Make our BOW vector and also we must wrap the target in a\n",
    "        # Tensor as an integer. For example, if the target is SPANISH, then\n",
    "        # we wrap the integer 0. The loss function then knows that the 0th\n",
    "        # element of the log probabilities is the log probability\n",
    "        # corresponding to SPANISH\n",
    "        bow_vec = make_bow_vector(instance, word_to_ix)\n",
    "#         print(bow_vec)\n",
    "        target = make_target(label, label_to_ix)\n",
    "#         print(target)\n",
    "        # Step 3. Run our forward pass.\n",
    "        log_probs = model(bow_vec)\n",
    "        \n",
    "        # Step 4. Compute the loss, gradients, and update the parameters by\n",
    "        # calling optimizer.step()\n",
    "        loss = loss_function(log_probs, target)\n",
    "        loss.backward()\n",
    "        optimizer.step()\n",
    "    print(\"epoch: \",epoch,\" target: \",target,\" log: \",log_probs,\" loss: \",loss)\n",
    "with torch.no_grad():\n",
    "    for instance, label in test_data:\n",
    "        bow_vec = make_bow_vector(instance, word_to_ix)\n",
    "        log_probs = model(bow_vec)\n",
    "        print(log_probs)\n",
    "\n",
    "# Index corresponding to Spanish goes up, English goes down!\n",
    "print(\"\\n\",next(model.parameters())[:, word_to_ix[\"creo\"]])"
   ]
  },
  {
   "cell_type": "code",
   "execution_count": null,
   "metadata": {
    "collapsed": true
   },
   "outputs": [],
   "source": []
  }
 ],
 "metadata": {
  "kernelspec": {
   "display_name": "Python 3",
   "language": "python",
   "name": "python3"
  },
  "language_info": {
   "codemirror_mode": {
    "name": "ipython",
    "version": 3
   },
   "file_extension": ".py",
   "mimetype": "text/x-python",
   "name": "python",
   "nbconvert_exporter": "python",
   "pygments_lexer": "ipython3",
   "version": "3.6.3"
  }
 },
 "nbformat": 4,
 "nbformat_minor": 2
}
