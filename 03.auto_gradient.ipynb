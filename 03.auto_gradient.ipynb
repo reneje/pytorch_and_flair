{
 "cells": [
  {
   "cell_type": "code",
   "execution_count": 1,
   "metadata": {
    "collapsed": true
   },
   "outputs": [],
   "source": [
    "import torch\n",
    "from torch.autograd import Variable"
   ]
  },
  {
   "cell_type": "code",
   "execution_count": 5,
   "metadata": {},
   "outputs": [
    {
     "name": "stdout",
     "output_type": "stream",
     "text": [
      "predict (before training) 4 tensor([4.], grad_fn=<MulBackward0>)\n",
      "grad:  1.0 2.0 tensor(-2.)\n",
      "grad:  2.0 4.0 tensor(-7.8400)\n",
      "grad:  3.0 6.0 tensor(-16.2288)\n",
      "progress:  0  loss =  tensor(7.3159)\n",
      "grad:  1.0 2.0 tensor(-1.4786)\n",
      "grad:  2.0 4.0 tensor(-5.7962)\n",
      "grad:  3.0 6.0 tensor(-11.9981)\n",
      "progress:  1  loss =  tensor(3.9988)\n",
      "grad:  1.0 2.0 tensor(-1.0932)\n",
      "grad:  2.0 4.0 tensor(-4.2852)\n",
      "grad:  3.0 6.0 tensor(-8.8704)\n",
      "progress:  2  loss =  tensor(2.1857)\n",
      "grad:  1.0 2.0 tensor(-0.8082)\n",
      "grad:  2.0 4.0 tensor(-3.1681)\n",
      "grad:  3.0 6.0 tensor(-6.5580)\n",
      "progress:  3  loss =  tensor(1.1946)\n",
      "grad:  1.0 2.0 tensor(-0.5975)\n",
      "grad:  2.0 4.0 tensor(-2.3422)\n",
      "grad:  3.0 6.0 tensor(-4.8484)\n",
      "progress:  4  loss =  tensor(0.6530)\n",
      "grad:  1.0 2.0 tensor(-0.4417)\n",
      "grad:  2.0 4.0 tensor(-1.7316)\n",
      "grad:  3.0 6.0 tensor(-3.5845)\n",
      "progress:  5  loss =  tensor(0.3569)\n",
      "grad:  1.0 2.0 tensor(-0.3266)\n",
      "grad:  2.0 4.0 tensor(-1.2802)\n",
      "grad:  3.0 6.0 tensor(-2.6500)\n",
      "progress:  6  loss =  tensor(0.1951)\n",
      "grad:  1.0 2.0 tensor(-0.2414)\n",
      "grad:  2.0 4.0 tensor(-0.9465)\n",
      "grad:  3.0 6.0 tensor(-1.9592)\n",
      "progress:  7  loss =  tensor(0.1066)\n",
      "grad:  1.0 2.0 tensor(-0.1785)\n",
      "grad:  2.0 4.0 tensor(-0.6997)\n",
      "grad:  3.0 6.0 tensor(-1.4485)\n",
      "progress:  8  loss =  tensor(0.0583)\n",
      "grad:  1.0 2.0 tensor(-0.1320)\n",
      "grad:  2.0 4.0 tensor(-0.5173)\n",
      "grad:  3.0 6.0 tensor(-1.0709)\n",
      "progress:  9  loss =  tensor(0.0319)\n",
      "predict (after training) 4 tensor([7.8049], grad_fn=<MulBackward0>)\n"
     ]
    }
   ],
   "source": [
    "x_data = [1.0, 2.0, 3.0]\n",
    "y_data = [2.0, 4.0, 6.0]\n",
    "\n",
    "w = Variable(torch.Tensor([1.0]), requires_grad=True)\n",
    "\n",
    "#our model forward pass\n",
    "# y = wx\n",
    "def forward(x):\n",
    "    return x*w\n",
    "\n",
    "#loss function\n",
    "#error (y_pred-y_data)^2\n",
    "def loss_function(x,y):\n",
    "    y_pred = forward(x)\n",
    "    return (y_pred - y)**2\n",
    "\n",
    "#before training\n",
    "print(\"predict (before training)\",  4, forward(4))\n",
    "\n",
    "for epoch in range(10):\n",
    "    for x_val, y_val in zip(x_data, y_data):\n",
    "        l = loss_function(x_val,y_val)\n",
    "        l.backward()\n",
    "        print(\"grad: \",x_val,y_val,w.grad.data[0])\n",
    "        w.data = w.data - 0.01*w.grad.data\n",
    "        \n",
    "        #manually zero the gradients after updating weights\n",
    "        w.grad.data.zero_()\n",
    "        \n",
    "    print(\"progress: \", epoch, \" loss = \", l.data[0])\n",
    "    \n",
    "#after training\n",
    "#before training\n",
    "print(\"predict (after training)\",  4, forward(4))"
   ]
  },
  {
   "cell_type": "code",
   "execution_count": null,
   "metadata": {
    "collapsed": true
   },
   "outputs": [],
   "source": []
  }
 ],
 "metadata": {
  "kernelspec": {
   "display_name": "Python 3",
   "language": "python",
   "name": "python3"
  },
  "language_info": {
   "codemirror_mode": {
    "name": "ipython",
    "version": 3
   },
   "file_extension": ".py",
   "mimetype": "text/x-python",
   "name": "python",
   "nbconvert_exporter": "python",
   "pygments_lexer": "ipython3",
   "version": "3.6.3"
  }
 },
 "nbformat": 4,
 "nbformat_minor": 2
}
