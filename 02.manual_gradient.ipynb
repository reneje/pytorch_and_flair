{
 "cells": [
  {
   "cell_type": "code",
   "execution_count": 1,
   "metadata": {
    "collapsed": true
   },
   "outputs": [],
   "source": [
    "import numpy as np\n",
    "import matplotlib.pyplot as plt"
   ]
  },
  {
   "cell_type": "code",
   "execution_count": 3,
   "metadata": {},
   "outputs": [
    {
     "name": "stdout",
     "output_type": "stream",
     "text": [
      "predict (before training) 4 4.0\n",
      "grad:  1.0 2.0 -2.0\n",
      "grad:  2.0 4.0 -7.84\n",
      "grad:  3.0 6.0 -16.23\n",
      "progress:  0  w =  1.26  loss =  4.92\n",
      "grad:  1.0 2.0 -1.48\n",
      "grad:  2.0 4.0 -5.8\n",
      "grad:  3.0 6.0 -12.0\n",
      "progress:  1  w =  1.45  loss =  2.69\n",
      "grad:  1.0 2.0 -1.09\n",
      "grad:  2.0 4.0 -4.29\n",
      "grad:  3.0 6.0 -8.87\n",
      "progress:  2  w =  1.6  loss =  1.47\n",
      "grad:  1.0 2.0 -0.81\n",
      "grad:  2.0 4.0 -3.17\n",
      "grad:  3.0 6.0 -6.56\n",
      "progress:  3  w =  1.7  loss =  0.8\n",
      "grad:  1.0 2.0 -0.6\n",
      "grad:  2.0 4.0 -2.34\n",
      "grad:  3.0 6.0 -4.85\n",
      "progress:  4  w =  1.78  loss =  0.44\n",
      "grad:  1.0 2.0 -0.44\n",
      "grad:  2.0 4.0 -1.73\n",
      "grad:  3.0 6.0 -3.58\n",
      "progress:  5  w =  1.84  loss =  0.24\n",
      "grad:  1.0 2.0 -0.33\n",
      "grad:  2.0 4.0 -1.28\n",
      "grad:  3.0 6.0 -2.65\n",
      "progress:  6  w =  1.88  loss =  0.13\n",
      "grad:  1.0 2.0 -0.24\n",
      "grad:  2.0 4.0 -0.95\n",
      "grad:  3.0 6.0 -1.96\n",
      "progress:  7  w =  1.91  loss =  0.07\n",
      "grad:  1.0 2.0 -0.18\n",
      "grad:  2.0 4.0 -0.7\n",
      "grad:  3.0 6.0 -1.45\n",
      "progress:  8  w =  1.93  loss =  0.04\n",
      "grad:  1.0 2.0 -0.13\n",
      "grad:  2.0 4.0 -0.52\n",
      "grad:  3.0 6.0 -1.07\n",
      "progress:  9  w =  1.95  loss =  0.02\n",
      "predict (after training) 4 7.804863933862125\n"
     ]
    }
   ],
   "source": [
    "x_data = [1.0,2.0,3.0]\n",
    "y_data = [2.0,4.0,6.0]\n",
    "\n",
    "w = 1.0\n",
    "\n",
    "#model forward pass\n",
    "# y = wx\n",
    "def forward(x):\n",
    "    return x*w\n",
    "\n",
    "#loss function\n",
    "#error (y_pred-y_data)^2\n",
    "def loss_function(x,y):\n",
    "    y_pred = forward(x)\n",
    "    return (y_pred - y)**2\n",
    "\n",
    "#compute gradient\n",
    "# delta w = 2* x * error\n",
    "def gradient(x,y):\n",
    "    return 2 * x * ( forward (x) - y)\n",
    "\n",
    "#before training\n",
    "print(\"predict (before training)\",  4, forward(4))\n",
    "\n",
    "for epoch in range(10):\n",
    "    for x_val, y_val in zip(x_data, y_data):\n",
    "        grad = gradient(x_val,y_val)\n",
    "        w = w - 0.01 *grad\n",
    "        print(\"grad: \",x_val,y_val,round(grad,2))\n",
    "        l = loss_function(x_val,y_val)\n",
    "        \n",
    "    print(\"progress: \", epoch, ' w = ',round(w,2), \" loss = \", round(l,2))\n",
    "    \n",
    "#after training\n",
    "#before training\n",
    "print(\"predict (after training)\",  4, forward(4))"
   ]
  },
  {
   "cell_type": "code",
   "execution_count": null,
   "metadata": {
    "collapsed": true
   },
   "outputs": [],
   "source": []
  }
 ],
 "metadata": {
  "kernelspec": {
   "display_name": "Python 3",
   "language": "python",
   "name": "python3"
  },
  "language_info": {
   "codemirror_mode": {
    "name": "ipython",
    "version": 3
   },
   "file_extension": ".py",
   "mimetype": "text/x-python",
   "name": "python",
   "nbconvert_exporter": "python",
   "pygments_lexer": "ipython3",
   "version": "3.6.3"
  }
 },
 "nbformat": 4,
 "nbformat_minor": 2
}
