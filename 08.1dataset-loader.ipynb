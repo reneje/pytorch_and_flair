{
 "cells": [
  {
   "cell_type": "code",
   "execution_count": 1,
   "metadata": {},
   "outputs": [],
   "source": [
    "import torch\n",
    "from torch.autograd import Variable\n",
    "import numpy as np\n",
    "from torch.utils.data import Dataset, DataLoader"
   ]
  },
  {
   "cell_type": "code",
   "execution_count": 7,
   "metadata": {},
   "outputs": [],
   "source": [
    "class DiabetesDataset(Dataset):\n",
    "    def __init__(self):\n",
    "        #inisiasi constructor\n",
    "        xy = np.loadtxt('diabetes.csv.gz',delimiter=',', dtype=np.float32)\n",
    "        \n",
    "        self.len=xy.shape[0]\n",
    "        self.x_data = torch.from_numpy(xy[:,0:-1])\n",
    "        self.y_data = torch.from_numpy(xy[:,[-1]])\n",
    "        \n",
    "        \n",
    "    def __getitem__(self,index):\n",
    "        return self.x_data[index], self.y_data[index]\n",
    "    \n",
    "    def __len__(self):\n",
    "        return self.len\n",
    "    \n",
    "\n",
    "dataset = DiabetesDataset()\n",
    "train_loader = DataLoader(dataset= dataset, batch_size=32, shuffle=True, num_workers=2)\n",
    "    \n"
   ]
  },
  {
   "cell_type": "code",
   "execution_count": 8,
   "metadata": {
    "collapsed": true
   },
   "outputs": [],
   "source": [
    "class Model(torch.nn.Module):\n",
    "    def __init__(self):\n",
    "        #inisiasi constructor\n",
    "        super(Model, self).__init__()\n",
    "        self.l1 = torch.nn.Linear(8,6)\n",
    "        self.l2 = torch.nn.Linear(6,4)\n",
    "        self.l3 = torch.nn.Linear(4,1)\n",
    "        \n",
    "        self.sigmoid = torch.nn.Sigmoid()\n",
    "        \n",
    "    def forward(self,x):\n",
    "        \"\"\"\n",
    "        In the forward function we accept a Variable of input data and we must return\n",
    "        a Variable of output data. We can use Modules defined in the constructor as\n",
    "        well as arbitrary operators on Variables.\n",
    "        \"\"\"\n",
    "        \n",
    "        out1 = self.sigmoid(self.l1(x))\n",
    "        out2 = self.sigmoid(self.l2(out1))\n",
    "        y_pred = self.sigmoid(self.l3(out2))\n",
    "        return y_pred\n",
    "    \n",
    "model = Model()"
   ]
  },
  {
   "cell_type": "code",
   "execution_count": 13,
   "metadata": {},
   "outputs": [
    {
     "name": "stderr",
     "output_type": "stream",
     "text": [
      "/hdd1/rini.jannati/anaconda3/lib/python3.6/site-packages/torch/nn/_reduction.py:49: UserWarning: size_average and reduce args will be deprecated, please use reduction='mean' instead.\n",
      "  warnings.warn(warning.format(ret))\n"
     ]
    },
    {
     "name": "stdout",
     "output_type": "stream",
     "text": [
      "0 0 0.8451428413391113\n",
      "0 1 0.8548092246055603\n",
      "0 2 0.859412670135498\n",
      "0 3 0.8171519041061401\n",
      "0 4 0.9396877288818359\n",
      "0 5 0.7939165830612183\n",
      "0 6 0.7796670198440552\n",
      "0 7 0.7547832131385803\n",
      "0 8 0.7809502482414246\n",
      "0 9 0.7443282008171082\n",
      "0 10 0.7439275979995728\n",
      "0 11 0.7128617763519287\n",
      "0 12 0.7565469145774841\n",
      "0 13 0.7159701585769653\n",
      "0 14 0.7067422270774841\n",
      "0 15 0.6947720050811768\n",
      "0 16 0.6900492906570435\n",
      "0 17 0.690944254398346\n",
      "0 18 0.6786966323852539\n",
      "0 19 0.6690622568130493\n",
      "0 20 0.6812781095504761\n",
      "0 21 0.6922868490219116\n",
      "0 22 0.6707323789596558\n",
      "0 23 0.6340870261192322\n",
      "1 0 0.6535688638687134\n",
      "1 1 0.6413291692733765\n",
      "1 2 0.6364926099777222\n",
      "1 3 0.6424834728240967\n",
      "1 4 0.6177018880844116\n",
      "1 5 0.6509994268417358\n",
      "1 6 0.6764167547225952\n",
      "1 7 0.5973477959632874\n",
      "1 8 0.7343485355377197\n",
      "1 9 0.596158504486084\n",
      "1 10 0.6616690158843994\n",
      "1 11 0.6625891327857971\n",
      "1 12 0.7219909429550171\n",
      "1 13 0.6210086345672607\n",
      "1 14 0.5739667415618896\n",
      "1 15 0.6777627468109131\n",
      "1 16 0.7095094919204712\n",
      "1 17 0.6014390587806702\n",
      "1 18 0.6792441010475159\n",
      "1 19 0.6941955089569092\n",
      "1 20 0.6627712249755859\n",
      "1 21 0.630868673324585\n",
      "1 22 0.6627501845359802\n",
      "1 23 0.693346381187439\n"
     ]
    }
   ],
   "source": [
    "criterion = torch.nn.BCELoss(size_average=True)\n",
    "optimizer = torch.optim.SGD(model.parameters(), lr=0.1)\n",
    "\n",
    "# Training loop\n",
    "for epoch in range(2):\n",
    "    for i, data in enumerate(train_loader, 0):\n",
    "        # get the inputs\n",
    "        inputs, labels = data\n",
    "\n",
    "        # wrap them in Variable\n",
    "        inputs, labels = Variable(inputs), Variable(labels)\n",
    "\n",
    "        # Forward pass: Compute predicted y by passing x to the model\n",
    "        y_pred = model(inputs)\n",
    "\n",
    "        # Compute and print loss\n",
    "        loss = criterion(y_pred, labels)\n",
    "        print(epoch, i, loss.item())\n",
    "\n",
    "        # Zero gradients, perform a backward pass, and update the weights.\n",
    "        optimizer.zero_grad()\n",
    "        loss.backward()\n",
    "        optimizer.step()"
   ]
  },
  {
   "cell_type": "code",
   "execution_count": null,
   "metadata": {
    "collapsed": true
   },
   "outputs": [],
   "source": []
  }
 ],
 "metadata": {
  "kernelspec": {
   "display_name": "Python 3",
   "language": "python",
   "name": "python3"
  },
  "language_info": {
   "codemirror_mode": {
    "name": "ipython",
    "version": 3
   },
   "file_extension": ".py",
   "mimetype": "text/x-python",
   "name": "python",
   "nbconvert_exporter": "python",
   "pygments_lexer": "ipython3",
   "version": "3.6.3"
  }
 },
 "nbformat": 4,
 "nbformat_minor": 2
}
